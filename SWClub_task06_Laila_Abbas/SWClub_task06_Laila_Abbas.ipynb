{
 "cells": [
  {
   "cell_type": "code",
   "execution_count": 2,
   "metadata": {},
   "outputs": [],
   "source": [
    "import numpy as np\n",
    "from sklearn import linear_model"
   ]
  },
  {
   "cell_type": "code",
   "execution_count": 15,
   "metadata": {},
   "outputs": [
    {
     "name": "stdout",
     "output_type": "stream",
     "text": [
      "(100, 5)\n"
     ]
    }
   ],
   "source": [
    "iris_ = np.genfromtxt('iris.csv',delimiter=',',dtype='str')\n",
    "iris = iris_[0:100,]\n",
    "print iris.shape"
   ]
  },
  {
   "cell_type": "code",
   "execution_count": 22,
   "metadata": {},
   "outputs": [
    {
     "name": "stdout",
     "output_type": "stream",
     "text": [
      "(100, 4)\n",
      "(100,)\n"
     ]
    }
   ],
   "source": [
    "regr = linear_model.LogisticRegression()\n",
    "rand_iris = np.random.permutation(iris)\n",
    "x_iris = rand_iris[:,:4]\n",
    "y_iris = rand_iris[:,4]\n",
    "print x_iris.shape\n",
    "print y_iris.shape"
   ]
  },
  {
   "cell_type": "code",
   "execution_count": 23,
   "metadata": {},
   "outputs": [
    {
     "data": {
      "text/plain": [
       "LogisticRegression(C=1.0, class_weight=None, dual=False, fit_intercept=True,\n",
       "          intercept_scaling=1, max_iter=100, multi_class='ovr', n_jobs=1,\n",
       "          penalty='l2', random_state=None, solver='liblinear', tol=0.0001,\n",
       "          verbose=0, warm_start=False)"
      ]
     },
     "execution_count": 23,
     "metadata": {},
     "output_type": "execute_result"
    }
   ],
   "source": [
    "regr.fit(x_iris,y_iris)"
   ]
  },
  {
   "cell_type": "code",
   "execution_count": 29,
   "metadata": {},
   "outputs": [
    {
     "name": "stdout",
     "output_type": "stream",
     "text": [
      "coeff are [[-0.40731745 -1.46092371  2.24004724  1.00841492]]\n",
      "intercept is [-0.26048137]\n",
      "no. of iterations [6]\n",
      "weight matrix is [-0.26048137 -0.40731745 -1.46092371  2.24004724  1.00841492]\n"
     ]
    }
   ],
   "source": [
    "print 'coeff are',regr.coef_\n",
    "print 'intercept is',regr.intercept_\n",
    "print 'no. of iterations', regr.n_iter_\n",
    "print 'weight matrix is', np.append(regr.intercept_ , regr.coef_)"
   ]
  },
  {
   "cell_type": "code",
   "execution_count": null,
   "metadata": {
    "collapsed": true
   },
   "outputs": [],
   "source": []
  }
 ],
 "metadata": {
  "kernelspec": {
   "display_name": "Python 3",
   "language": "python",
   "name": "python3"
  },
  "language_info": {
   "codemirror_mode": {
    "name": "ipython",
    "version": 3
   },
   "file_extension": ".py",
   "mimetype": "text/x-python",
   "name": "python",
   "nbconvert_exporter": "python",
   "pygments_lexer": "ipython3",
   "version": "3.7.1"
  }
 },
 "nbformat": 4,
 "nbformat_minor": 1
}
