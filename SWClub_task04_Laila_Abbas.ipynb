{
 "cells": [
  {
   "cell_type": "code",
   "execution_count": 4,
   "metadata": {
    "collapsed": true
   },
   "outputs": [],
   "source": [
    "import numpy as np "
   ]
  },
  {
   "cell_type": "code",
   "execution_count": 5,
   "metadata": {},
   "outputs": [],
   "source": [
    "#A,B,C are arrays with random numbers\n",
    "A = np.array([[1,2,5],[6,7,1],[4,2,0],[3,6,8],[5,9,2]])\n",
    "B = np.array([[4,6,8],[8,3,1],[5,3,2]])\n",
    "C = np.array([[6,2,1],[8,4,3],[5,6,10]])"
   ]
  },
  {
   "cell_type": "code",
   "execution_count": 6,
   "metadata": {},
   "outputs": [
    {
     "name": "stdout",
     "output_type": "stream",
     "text": [
      "(5, 3)\n",
      "(3, 3)\n",
      "(3, 3)\n"
     ]
    }
   ],
   "source": [
    "#checking shape of arrays\n",
    "print (A.shape)\n",
    "print (B.shape)\n",
    "print (C.shape)"
   ]
  },
  {
   "cell_type": "code",
   "execution_count": 7,
   "metadata": {},
   "outputs": [],
   "source": [
    "#sum of array B and C\n",
    "summation = np.add(B,C)"
   ]
  },
  {
   "cell_type": "code",
   "execution_count": 8,
   "metadata": {},
   "outputs": [
    {
     "data": {
      "text/plain": [
       "array([[10,  8,  9],\n",
       "       [16,  7,  4],\n",
       "       [10,  9, 12]])"
      ]
     },
     "execution_count": 8,
     "metadata": {},
     "output_type": "execute_result"
    }
   ],
   "source": [
    "summation"
   ]
  },
  {
   "cell_type": "code",
   "execution_count": 9,
   "metadata": {
    "collapsed": true
   },
   "outputs": [],
   "source": [
    "#Difference between array B and C\n",
    "diff = np.subtract(B,C)"
   ]
  },
  {
   "cell_type": "code",
   "execution_count": 10,
   "metadata": {},
   "outputs": [
    {
     "data": {
      "text/plain": [
       "array([[-2,  4,  7],\n",
       "       [ 0, -1, -2],\n",
       "       [ 0, -3, -8]])"
      ]
     },
     "execution_count": 10,
     "metadata": {},
     "output_type": "execute_result"
    }
   ],
   "source": [
    "diff"
   ]
  },
  {
   "cell_type": "code",
   "execution_count": 11,
   "metadata": {},
   "outputs": [],
   "source": [
    "#element wise multiplication and division between B and C\n",
    "multip_1 = np.multiply(B,C)\n",
    "\n",
    "divide_1 =np.divide(B,C)"
   ]
  },
  {
   "cell_type": "code",
   "execution_count": 12,
   "metadata": {},
   "outputs": [
    {
     "name": "stdout",
     "output_type": "stream",
     "text": [
      "multiplication element wise = [[24 12  8]\n",
      " [64 12  3]\n",
      " [25 18 20]]\n",
      "division element wise = [[0 3 8]\n",
      " [1 0 0]\n",
      " [1 0 0]]\n"
     ]
    }
   ],
   "source": [
    "print 'multiplication element wise =',multip_1\n",
    "print 'division element wise =' , divide_1"
   ]
  },
  {
   "cell_type": "code",
   "execution_count": 17,
   "metadata": {},
   "outputs": [],
   "source": [
    "#matrices multiplication and division between A abd B\n",
    "multip_2 = A.dot(B)\n",
    "inv = np.linalg.inv(B)\n",
    "divide_2 = A.dot(inv)"
   ]
  },
  {
   "cell_type": "code",
   "execution_count": 19,
   "metadata": {},
   "outputs": [
    {
     "name": "stdout",
     "output_type": "stream",
     "text": [
      "matrix multiplication of A and B =  [[ 45  27  20]\n",
      " [ 85  60  57]\n",
      " [ 32  30  34]\n",
      " [100  60  46]\n",
      " [102  63  53]]\n",
      "matrix division of A and B =  [[  1.44444444   2.11111111  -4.33333333]\n",
      " [ -2.77777778  -7.44444444  15.33333333]\n",
      " [ -0.55555556  -0.88888889   2.66666667]\n",
      " [  0.83333333  -0.66666667   1.        ]\n",
      " [ -3.66666667 -10.66666667  21.        ]]\n"
     ]
    }
   ],
   "source": [
    "print 'matrix multiplication of A and B = ',multip_2\n",
    "print 'matrix division of A and B = ',divide_2"
   ]
  },
  {
   "cell_type": "code",
   "execution_count": null,
   "metadata": {
    "collapsed": true
   },
   "outputs": [],
   "source": []
  }
 ],
 "metadata": {
  "kernelspec": {
   "display_name": "Python 3",
   "language": "python",
   "name": "python3"
  },
  "language_info": {
   "codemirror_mode": {
    "name": "ipython",
    "version": 3
   },
   "file_extension": ".py",
   "mimetype": "text/x-python",
   "name": "python",
   "nbconvert_exporter": "python",
   "pygments_lexer": "ipython3",
   "version": "3.7.1"
  }
 },
 "nbformat": 4,
 "nbformat_minor": 1
}
