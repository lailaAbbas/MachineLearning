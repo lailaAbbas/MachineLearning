{
 "cells": [
  {
   "cell_type": "code",
   "execution_count": 1,
   "metadata": {
    "collapsed": true
   },
   "outputs": [],
   "source": [
    "m=[]\n",
    "for x in range (0,9):\n",
    "    m.append(str(x))"
   ]
  },
  {
   "cell_type": "code",
   "execution_count": 2,
   "metadata": {
    "collapsed": false
   },
   "outputs": [
    {
     "data": {
      "text/plain": [
       "['0', '1', '2', '3', '4', '5', '6', '7', '8']"
      ]
     },
     "execution_count": 2,
     "metadata": {},
     "output_type": "execute_result"
    }
   ],
   "source": [
    "m"
   ]
  },
  {
   "cell_type": "code",
   "execution_count": 3,
   "metadata": {
    "collapsed": false
   },
   "outputs": [
    {
     "name": "stdout",
     "output_type": "stream",
     "text": [
      "0|1|2\n",
      "-----\n",
      "3|4|5\n",
      "-----\n",
      "6|7|8\n",
      "-----\n",
      "to play please enter the no. of position as mentioned in the above board \n"
     ]
    }
   ],
   "source": [
    "print m[0]+'|'+m[1]+'|'+m[2]\n",
    "print'-----'\n",
    "print m[3]+'|'+m[4]+'|'+m[5]\n",
    "print'-----'\n",
    "print m[6]+'|'+m[7]+'|'+m[8]\n",
    "print'-----'\n",
    "print 'to play please enter the no. of position as mentioned in the above board '"
   ]
  },
  {
   "cell_type": "code",
   "execution_count": 4,
   "metadata": {
    "collapsed": true
   },
   "outputs": [],
   "source": [
    "for y in range (0,9):\n",
    "    m[y]=' '"
   ]
  },
  {
   "cell_type": "code",
   "execution_count": 7,
   "metadata": {
    "collapsed": false
   },
   "outputs": [
    {
     "name": "stdout",
     "output_type": "stream",
     "text": [
      "0\n",
      "x| | \n",
      "-----\n",
      " | | \n",
      "-----\n",
      " | | \n",
      "-----\n",
      "2\n",
      "x| |o\n",
      "-----\n",
      " | | \n",
      "-----\n",
      " | | \n",
      "-----\n",
      "1\n",
      "x|x|o\n",
      "-----\n",
      " | | \n",
      "-----\n",
      " | | \n",
      "-----\n",
      "3\n",
      "x|x|o\n",
      "-----\n",
      "o| | \n",
      "-----\n",
      " | | \n",
      "-----\n",
      "6\n",
      "x|x|o\n",
      "-----\n",
      "o| | \n",
      "-----\n",
      "x| | \n",
      "-----\n",
      "5\n",
      "x|x|o\n",
      "-----\n",
      "o| |o\n",
      "-----\n",
      "x| | \n",
      "-----\n",
      "4\n",
      "x|x|o\n",
      "-----\n",
      "o|x|o\n",
      "-----\n",
      "x| | \n",
      "-----\n",
      "7\n",
      "x|x|o\n",
      "-----\n",
      "o|x|o\n",
      "-----\n",
      "x|o| \n",
      "-----\n",
      "8\n",
      "player 1 is winner\n",
      "x|x|o\n",
      "-----\n",
      "o|x|o\n",
      "-----\n",
      "x|o|x\n",
      "-----\n",
      "5\n"
     ]
    }
   ],
   "source": [
    "s = 0\n",
    "n = input()\n",
    "for s in range (0,9):\n",
    "    k= False\n",
    "    if (m[n]!= ' '):\n",
    "        print 'Error'\n",
    "    else :\n",
    "        if (s in range (0,9,2)):\n",
    "            m[n]='x'\n",
    "        else:\n",
    "            m[n]='o'\n",
    "        if ((m[0]=='x'and m[1]=='x' and m[2]=='x')or(m[3]=='x'and m[4]=='x' and m[5]=='x')or (m[6]=='x'and m[7]=='x' and m[8]=='x')or (m[0]=='x'and m[3]=='x' and m[6]=='x')or (m[1]=='x'and m[4]=='x' and m[7]=='x')or (m[2]=='x'and m[5]=='x' and m[8]=='x')or (m[0]=='x'and m[4]=='x' and m[8]=='x') or (m[2]=='x'and m[4]=='x' and m[6]=='x')):\n",
    "            print 'player 1 is winner'\n",
    "            k = True\n",
    "        elif ((m[0]=='o'and m[1]=='o' and m[2]=='o')or(m[3]=='o'and m[4]=='o' and m[5]=='o')or (m[6]=='o'and m[7]=='o' and m[8]=='o')or (m[0]=='o' and m[3]=='o' and m[6]=='o')or (m[1]=='o' and m[4]=='o' and m[7]=='o')or (m[2]=='o'and m[5]=='o' and m[8]=='o')or (m[0]=='o'and m[4]=='o' and m[8]=='o') or (m[2]=='o'and m[4]=='o' and m[6]=='o')):\n",
    "            print 'player 2 is winner'\n",
    "            k = True\n",
    "        elif (s==8):\n",
    "            print 'Game Over'\n",
    "            k= True\n",
    "        print m[0]+'|'+m[1]+'|'+m[2]\n",
    "        print'-----'\n",
    "        print m[3]+'|'+m[4]+'|'+m[5]\n",
    "        print'-----'\n",
    "        print m[6]+'|'+m[7]+'|'+m[8]\n",
    "        print'-----'\n",
    "        s = s +1\n",
    "        n=input()\n",
    "    if (k) :\n",
    "        for y in range (0,9):\n",
    "            m[y]=' '\n",
    "        s = 0\n",
    "              \n",
    "           \n",
    "        "
   ]
  },
  {
   "cell_type": "code",
   "execution_count": null,
   "metadata": {
    "collapsed": true
   },
   "outputs": [],
   "source": []
  }
 ],
 "metadata": {
  "kernelspec": {
   "display_name": "Python 2",
   "language": "python",
   "name": "python2"
  },
  "language_info": {
   "codemirror_mode": {
    "name": "ipython",
    "version": 2
   },
   "file_extension": ".py",
   "mimetype": "text/x-python",
   "name": "python",
   "nbconvert_exporter": "python",
   "pygments_lexer": "ipython2",
   "version": "2.7.11"
  }
 },
 "nbformat": 4,
 "nbformat_minor": 0
}
