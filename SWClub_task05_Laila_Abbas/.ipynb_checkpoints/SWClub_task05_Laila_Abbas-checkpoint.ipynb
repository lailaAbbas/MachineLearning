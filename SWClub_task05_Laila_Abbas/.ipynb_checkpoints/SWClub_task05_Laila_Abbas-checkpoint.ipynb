{
 "cells": [
  {
   "cell_type": "code",
   "execution_count": 1,
   "metadata": {},
   "outputs": [],
   "source": [
    "import matplotlib.pyplot as plt\n",
    "import numpy as np\n"
   ]
  },
  {
   "cell_type": "code",
   "execution_count": 2,
   "metadata": {},
   "outputs": [
    {
     "name": "stdout",
     "output_type": "stream",
     "text": [
      "[['target(y)' 'feature1' 'feature2' ..., 'feature8' 'feature9' 'feature10']\n",
      " ['1.510000000000000000e+02' '3.807590643342410180e-02'\n",
      "  '5.068011873981870252e-02' ..., '-2.592261998182820038e-03'\n",
      "  '1.990842087631829876e-02' '-1.764612515980519894e-02']\n",
      " ['7.500000000000000000e+01' '-1.882016527791040067e-03'\n",
      "  '-4.464163650698899782e-02' ..., '-3.949338287409189657e-02'\n",
      "  '-6.832974362442149896e-02' '-9.220404962683000083e-02']\n",
      " ..., \n",
      " ['1.320000000000000000e+02' '4.170844488444359899e-02'\n",
      "  '5.068011873981870252e-02' ..., '-1.107951979964190078e-02'\n",
      "  '-4.687948284421659950e-02' '1.549073015887240078e-02']\n",
      " ['2.200000000000000000e+02' '-4.547247794002570037e-02'\n",
      "  '-4.464163650698899782e-02' ..., '2.655962349378539894e-02'\n",
      "  '4.452837402140529671e-02' '-2.593033898947460017e-02']\n",
      " ['5.700000000000000000e+01' '-4.547247794002570037e-02'\n",
      "  '-4.464163650698899782e-02' ..., '-3.949338287409189657e-02'\n",
      "  '-4.219859706946029777e-03' '3.064409414368320182e-03']]\n",
      "(443, 11)\n"
     ]
    }
   ],
   "source": [
    "my_data = np.genfromtxt('diabetes.csv', delimiter=',' ,dtype=str)\n",
    "print my_data\n",
    "print my_data.shape\n",
    "    "
   ]
  },
  {
   "cell_type": "code",
   "execution_count": 37,
   "metadata": {},
   "outputs": [
    {
     "name": "stdout",
     "output_type": "stream",
     "text": [
      "(442,)\n",
      "(442, 1)\n",
      "(442, 11)\n"
     ]
    }
   ],
   "source": [
    "#y represents the target list of shape 442*1\n",
    "#x represents the feature list of shape 442*11\n",
    "y = my_data[1:,0]\n",
    "y = np.array(y,dtype=float)\n",
    "print y.shape\n",
    "m = my_data[1:,1:]\n",
    "m_of_ones = np.ones((442,1))\n",
    "print m_of_ones.shape\n",
    "x = np.concatenate((m_of_ones,m),axis=1)\n",
    "x = np.array(x,dtype=float)\n",
    "print x.shape"
   ]
  },
  {
   "cell_type": "code",
   "execution_count": 68,
   "metadata": {},
   "outputs": [
    {
     "name": "stdout",
     "output_type": "stream",
     "text": [
      "theta_matrix1 =  [ 152.13348416  -10.01219782 -239.81908937  519.83978679  324.39042769\n",
      " -792.18416163  476.74583782  101.04457032  177.06417623  751.27932109\n",
      "   67.62538639]\n",
      "It's matrix of shape  (11,)\n"
     ]
    }
   ],
   "source": [
    "#theta_matrix represents the parameters matrix using the way of calulation requires of size 11*1 \n",
    "theta_matrix1 = np.dot(np.linalg.pinv(x),y)\n",
    "print 'theta_matrix1 = ',theta_matrix1\n",
    "print \"It's matrix of shape \",theta_matrix1.shape"
   ]
  },
  {
   "cell_type": "code",
   "execution_count": 43,
   "metadata": {},
   "outputs": [],
   "source": [
    "from sklearn import linear_model"
   ]
  },
  {
   "cell_type": "code",
   "execution_count": 45,
   "metadata": {},
   "outputs": [
    {
     "name": "stdout",
     "output_type": "stream",
     "text": [
      "Coefficients: \n",
      "[   0.          -10.01219782 -239.81908937  519.83978679  324.39042769\n",
      " -792.18416163  476.74583782  101.04457032  177.06417623  751.27932109\n",
      "   67.62538639]\n",
      "Bias: \n",
      "152.133484163\n"
     ]
    }
   ],
   "source": [
    "regr = linear_model.LinearRegression()\n",
    "regr.fit(x,y)\n",
    "print 'Coefficients: \\n', regr.coef_\n",
    "print 'Bias: \\n', regr.intercept_"
   ]
  },
  {
   "cell_type": "code",
   "execution_count": 67,
   "metadata": {},
   "outputs": [
    {
     "name": "stdout",
     "output_type": "stream",
     "text": [
      "theta_matrix2 =  [ 152.13348416  -10.01219782 -239.81908937  519.83978679  324.39042769\n",
      " -792.18416163  476.74583782  101.04457032  177.06417623  751.27932109\n",
      "   67.62538639]\n",
      "It's matrix of shape  (11,)\n"
     ]
    }
   ],
   "source": [
    "#theta_matrix2 represents parameters matrix via linear regression model os size 11*1\n",
    "theta_matrix2 = np.append(regr.intercept_ , regr.coef_[1:])\n",
    "print 'theta_matrix2 = ',theta_matrix2\n",
    "print \"It's matrix of shape \",theta_matrix2.shape"
   ]
  },
  {
   "cell_type": "code",
   "execution_count": null,
   "metadata": {
    "collapsed": true
   },
   "outputs": [],
   "source": []
  }
 ],
 "metadata": {
  "kernelspec": {
   "display_name": "Python 3",
   "language": "python",
   "name": "python3"
  },
  "language_info": {
   "codemirror_mode": {
    "name": "ipython",
    "version": 3
   },
   "file_extension": ".py",
   "mimetype": "text/x-python",
   "name": "python",
   "nbconvert_exporter": "python",
   "pygments_lexer": "ipython3",
   "version": "3.7.1"
  }
 },
 "nbformat": 4,
 "nbformat_minor": 1
}
