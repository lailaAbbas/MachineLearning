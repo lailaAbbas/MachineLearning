{
 "cells": [
  {
   "cell_type": "code",
   "execution_count": 14,
   "metadata": {},
   "outputs": [],
   "source": [
    "import numpy as np\n",
    "import matplotlib.pylab as plt\n",
    "import sklearn "
   ]
  },
  {
   "cell_type": "code",
   "execution_count": 15,
   "metadata": {},
   "outputs": [
    {
     "name": "stdout",
     "output_type": "stream",
     "text": [
      "(100, 4)\n",
      "(100,)\n"
     ]
    }
   ],
   "source": [
    "from sklearn import datasets\n",
    "d = datasets.load_iris()\n",
    "x_d = d.data\n",
    "x_d = x_d[:100,:]\n",
    "print(x_d.shape)\n",
    "y_d = d.target[0:100]\n",
    "print(y_d.shape)\n"
   ]
  },
  {
   "cell_type": "code",
   "execution_count": 23,
   "metadata": {},
   "outputs": [],
   "source": [
    "perm = np.random.permutation(len(x_d))\n",
    "x_d = x_d[perm]\n",
    "y_d = y_d[perm]"
   ]
  },
  {
   "cell_type": "code",
   "execution_count": 24,
   "metadata": {},
   "outputs": [],
   "source": [
    "data_normal = np.copy(x_d)\n",
    "data_normal[:,0] = (x_d[:,0] - x_d[:,0].mean()) / x_d[:,0].std()\n",
    "data_normal[:,1] = (x_d[:,1] - x_d[:,1].mean()) / x_d[:,1].std()\n",
    "data_normal[:,2] = (x_d[:,2] - x_d[:,2].mean()) / x_d[:,2].std()\n",
    "data_normal[:,3] = (x_d[:,3] - x_d[:,3].mean()) / x_d[:,3].std()"
   ]
  },
  {
   "cell_type": "code",
   "execution_count": 25,
   "metadata": {},
   "outputs": [],
   "source": [
    "class LogisticRegression2(object):\n",
    "    def __init__(self, eta=0.02, n_iter=500):\n",
    "        self.eta = eta\n",
    "        self.n_iter = n_iter\n",
    "    def fit (self,x,y):\n",
    "        self.x = x\n",
    "        self.y = y\n",
    "        one = np.ones((np.shape(self.x)[0],1))\n",
    "        self.x = np.concatenate((self.x , one) , axis=1)\n",
    "        self.w = np.zeros(np.shape(self.x)[1])\n",
    "        \n",
    "    def sigmoid(self):\n",
    "        self.z = np.dot(self.x,self.w)\n",
    "        return (1.0/(1+np.exp(-self.z)))\n",
    "    \n",
    "    def y_predict(self):\n",
    "        prediction = np.empty(self.y.shape)\n",
    "        for i in range (np.shape(self.y)[0]):\n",
    "            if (self.sigmoid()[i]>=0.5):\n",
    "                prediction [i]=1\n",
    "            else:\n",
    "                prediction[i] = 0\n",
    "        return(prediction)\n",
    "        \n",
    "    def NLL(self):\n",
    "        return (-(np.multiply(self.y,np.log10(self.sigmoid())))-(np.multiply((1-self.y),np.log10(1-self.sigmoid()))))\n",
    "    \n",
    "    def SGD(self):\n",
    "        self.w = self.w + self.eta*np.dot((np.multiply(self.y_predict(),(self.y-self.y_predict()),(1-self.y_predict()))),self.x)\n",
    "       \n",
    "    def activation(self):\n",
    "        for m in range (self.n_iter):\n",
    "            self.SGD()\n",
    "            self.sigmoid()\n",
    "            self.y_predict()\n",
    "            self.NLL()\n",
    "        return (self.w,self.NLL())\n",
    "            \n",
    "        \n"
   ]
  },
  {
   "cell_type": "code",
   "execution_count": 26,
   "metadata": {},
   "outputs": [],
   "source": [
    "model = LogisticRegression2()\n",
    "model.fit(data_normal,y_d)"
   ]
  },
  {
   "cell_type": "code",
   "execution_count": 27,
   "metadata": {},
   "outputs": [
    {
     "data": {
      "text/plain": [
       "(array([ 0.72829015, -0.68401941,  0.96995527,  0.96015755, -1.        ]),\n",
       " array([ 0.15607721,  0.13679436,  0.01570282,  0.00942171,  0.16095892,\n",
       "         0.00648077,  0.06733792,  0.00591815,  0.02445653,  0.01015687,\n",
       "         0.01015687,  0.05739169,  0.01473076,  0.10287844,  0.1401169 ,\n",
       "         0.11035741,  0.0097925 ,  0.00299248,  0.07520356,  0.10011053,\n",
       "         0.03404523,  0.01591487,  0.01027889,  0.00655611,  0.0131193 ,\n",
       "         0.04628461,  0.00787302,  0.02381371,  0.01147607,  0.07960296,\n",
       "         0.01370696,  0.01247437,  0.02134318,  0.00458869,  0.13551387,\n",
       "         0.01584272,  0.04446731,  0.01922061,  0.08793766,  0.01975852,\n",
       "         0.09785218,  0.00690193,  0.11401069,  0.00727723,  0.00952437,\n",
       "         0.01296715,  0.03880668,  0.01169254,  0.00694736,  0.00455145,\n",
       "         0.00615893,  0.05156891,  0.28730182,  0.0699756 ,  0.00888869,\n",
       "         0.00946227,  0.02469313,  0.00826498,  0.13530238,  0.00896932,\n",
       "         0.00617706,  0.00895705,  0.02138456,  0.01435127,  0.00913069,\n",
       "         0.00851344,  0.01366264,  0.03505284,  0.00747573,  0.01013365,\n",
       "         0.09602669,  0.00955458,  0.08270732,  0.06502722,  0.12011942,\n",
       "         0.05083002,  0.00876709,  0.24625422,  0.08479294,  0.29842925,\n",
       "         0.04254155,  0.16520448,  0.00856937,  0.01716097,  0.00751304,\n",
       "         0.00340098,  0.01078657,  0.00795896,  0.0098145 ,  0.04545128,\n",
       "         0.01655885,  0.0210019 ,  0.03066241,  0.01015687,  0.05376137,\n",
       "         0.07610826,  0.00518086,  0.04219091,  0.00801128,  0.08837414]))"
      ]
     },
     "execution_count": 27,
     "metadata": {},
     "output_type": "execute_result"
    }
   ],
   "source": [
    "model.activation()"
   ]
  },
  {
   "cell_type": "code",
   "execution_count": null,
   "metadata": {},
   "outputs": [],
   "source": []
  },
  {
   "cell_type": "code",
   "execution_count": null,
   "metadata": {},
   "outputs": [],
   "source": []
  },
  {
   "cell_type": "code",
   "execution_count": null,
   "metadata": {
    "collapsed": true
   },
   "outputs": [],
   "source": []
  }
 ],
 "metadata": {
  "anaconda-cloud": {},
  "kernelspec": {
   "display_name": "Python 3",
   "language": "python",
   "name": "python3"
  },
  "language_info": {
   "codemirror_mode": {
    "name": "ipython",
    "version": 3
   },
   "file_extension": ".py",
   "mimetype": "text/x-python",
   "name": "python",
   "nbconvert_exporter": "python",
   "pygments_lexer": "ipython3",
   "version": "3.7.1"
  }
 },
 "nbformat": 4,
 "nbformat_minor": 1
}
